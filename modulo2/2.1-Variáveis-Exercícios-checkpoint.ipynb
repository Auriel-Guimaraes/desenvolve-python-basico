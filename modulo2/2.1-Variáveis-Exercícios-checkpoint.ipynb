{
 "cells": [
  {
   "cell_type": "markdown",
   "id": "a9d28135",
   "metadata": {},
   "source": [
    "# Módulo 2\n",
    "## 2.1 Variáveis\n",
    "\n",
    "### Q1. \n",
    "Selecione todos os itens a seguir que contém nomes válidos de variáveis. Lembre-se que alguns nomes com estrutura válida são palavras reservadas da linguagem e portanto não podem nomear variáveis.\n",
    "\n",
    "    a) nome_completo \n",
    "    b) quantidade@produtos\t\n",
    "    c) idade\t\n",
    "    d) soma idades \n",
    "    e) MediaNotas\n",
    "    f) _tipo\n",
    "    g) 2total\n",
    "    h) lambda"
   ]
  },
  {
   "cell_type": "code",
   "execution_count": null,
   "id": "23ab7106",
   "metadata": {},
   "outputs": [],
   "source": [
    "# Preencha o print com as alternativas corretas\n",
    "# separadas por espaços em branco.\n",
    "# Ex: print(\"a b c\")\n",
    "print(\" a c e f \")"
   ]
  },
  {
   "cell_type": "markdown",
   "id": "f56d2b28",
   "metadata": {},
   "source": [
    "---\n",
    "### Q2. \n",
    "Dados os scripts a seguir, faça: \n",
    "- Para os scripts corretos escreva o resultado impresso ao final da execução\n",
    "- Para os incorretos descreva todos os erros identificados apontando a linha onde cada erro acontece.\n"
   ]
  },
  {
   "cell_type": "markdown",
   "id": "a2f2461b",
   "metadata": {},
   "source": [
    "```python\n",
    "# Script 1\n",
    "x = 10\n",
    "y = x + 2\n",
    "print(y - 5)\n",
    "```"
   ]
  },
  {
   "cell_type": "code",
   "execution_count": null,
   "id": "4371ac7b",
   "metadata": {},
   "outputs": [],
   "source": [
    "# preencha o print com sua resposta\n",
    "print(\" 7 \")"
   ]
  },
  {
   "cell_type": "markdown",
   "id": "b38baa9c",
   "metadata": {},
   "source": [
    "```python\n",
    "# Script 2\n",
    "soma = n1 + n2\n",
    "print(soma) \n",
    "```"
   ]
  },
  {
   "cell_type": "code",
   "execution_count": null,
   "id": "82b5064b",
   "metadata": {},
   "outputs": [],
   "source": [
    "# preencha o print com sua resposta\n",
    "print(\" variáveis 'n1' e 'n2' não definidas na linha 1 do código \")"
   ]
  },
  {
   "cell_type": "markdown",
   "id": "c2f3ab7a",
   "metadata": {},
   "source": [
    "```python\n",
    "# Script 3\n",
    "a = 10\n",
    "a = a + 1\n",
    "print(a)\n",
    "```"
   ]
  },
  {
   "cell_type": "code",
   "execution_count": null,
   "id": "7b9db0c7",
   "metadata": {},
   "outputs": [],
   "source": [
    "# preencha o print com sua resposta\n",
    "print(\" o valor definido para a variável não pode ser a mesma variável na linha 2 do código \")"
   ]
  },
  {
   "cell_type": "markdown",
   "id": "dd40d2c9",
   "metadata": {},
   "source": [
    "# Script 4\n",
    "saldo da conta = 1500\n",
    "0.1 = juros\n",
    "print(saldo da conta * juros)\n"
   ]
  },
  {
   "cell_type": "code",
   "execution_count": null,
   "id": "2dec64ac",
   "metadata": {},
   "outputs": [],
   "source": [
    "# preencha o print com sua resposta\n",
    "print(\" nome da variável inserido incorretamente na linha 2 \")"
   ]
  },
  {
   "cell_type": "markdown",
   "id": "9ba1f2a8",
   "metadata": {},
   "source": [
    "### Q3.\n",
    "Declare três variáveis, `num1`, `num2` e `num3`, com valores inteiros numéricos de sua escolha. Calcule e imprima a média desses três números. Utilize a fórmula: `(num1 + num2 + num3) / 3`."
   ]
  },
  {
   "cell_type": "code",
   "execution_count": 2,
   "id": "46e3e4f1-2817-4618-8272-4057818f1298",
   "metadata": {},
   "outputs": [],
   "source": [
    "num1 = 10"
   ]
  },
  {
   "cell_type": "code",
   "execution_count": 3,
   "id": "b97962f1-4190-4713-8606-10a319b87722",
   "metadata": {},
   "outputs": [],
   "source": [
    "num2 = 5"
   ]
  },
  {
   "cell_type": "code",
   "execution_count": 4,
   "id": "c1c7ea4e-2ef7-463a-88cb-9a02dcd66d66",
   "metadata": {},
   "outputs": [],
   "source": [
    "num3 = 7"
   ]
  },
  {
   "cell_type": "code",
   "execution_count": 11,
   "id": "24f128f4-2895-4eb0-8d36-af6db691c878",
   "metadata": {},
   "outputs": [],
   "source": [
    "soma = (num1 + num2 + num3)"
   ]
  },
  {
   "cell_type": "code",
   "execution_count": 12,
   "id": "19943b08-5b06-4abe-92a7-c155bdba11b1",
   "metadata": {},
   "outputs": [
    {
     "name": "stdout",
     "output_type": "stream",
     "text": [
      "7.333333333333333\n"
     ]
    }
   ],
   "source": [
    "print (soma / 3)"
   ]
  },
  {
   "cell_type": "markdown",
   "id": "7940ba20",
   "metadata": {},
   "source": [
    "--- \n",
    "### Q4.\n",
    "Escreva um script python que:\n",
    "- Armazene em uma variável uma velocidade de 90 km/h\n",
    "- Calcule e armazene o equivalente em m/s\n",
    "    - Divida o valor original por 3.6 para obter o resultado em m/s. Em python a sintaxe da divisão e atribuição é c = a / b \n",
    "- Imprima na tela a velocidade o resultado m/s\n"
   ]
  },
  {
   "cell_type": "code",
   "execution_count": 13,
   "id": "e1963351",
   "metadata": {},
   "outputs": [],
   "source": [
    "kmh = 90"
   ]
  },
  {
   "cell_type": "code",
   "execution_count": 14,
   "id": "dd4fe7ae",
   "metadata": {},
   "outputs": [],
   "source": [
    "ms = 90 / 3.6"
   ]
  },
  {
   "cell_type": "code",
   "execution_count": 15,
   "id": "5151b336-9da1-43a0-92ae-2f55cd608c67",
   "metadata": {},
   "outputs": [
    {
     "name": "stdout",
     "output_type": "stream",
     "text": [
      "A velocidade é\n"
     ]
    }
   ],
   "source": [
    "print (\"A velocidade é\")"
   ]
  },
  {
   "cell_type": "code",
   "execution_count": 16,
   "id": "bc19ba5e-a40c-43bf-b9d5-b2e258ccfe4f",
   "metadata": {},
   "outputs": [
    {
     "name": "stdout",
     "output_type": "stream",
     "text": [
      "25.0\n"
     ]
    }
   ],
   "source": [
    "print (ms)"
   ]
  },
  {
   "cell_type": "markdown",
   "id": "cc714a42",
   "metadata": {},
   "source": [
    "---\n",
    "### Q5.\n",
    "Escreva um script python que:\n",
    "- Armazene o seu nome em uma variável\n",
    "    - Dica: para armazenar textos em variáveis basta colocar a palavra desejada entre aspas, ex: \"Camila\", à direita do operador de atribuição.\n",
    "- Imprima o texto \"Meu nome é:\"\n",
    "- Imprima a variável com seu nome\n"
   ]
  },
  {
   "cell_type": "code",
   "execution_count": 23,
   "id": "4992fa97-285e-4b85-9121-3744253b88a0",
   "metadata": {},
   "outputs": [],
   "source": [
    "nome_aluno = \"Andre Guimaraes\""
   ]
  },
  {
   "cell_type": "code",
   "execution_count": 19,
   "id": "bd01b9f4-0186-44d9-adec-24016452a508",
   "metadata": {},
   "outputs": [
    {
     "name": "stdout",
     "output_type": "stream",
     "text": [
      "Meu nome é\n"
     ]
    }
   ],
   "source": [
    "print (\"Meu nome é\")"
   ]
  },
  {
   "cell_type": "code",
   "execution_count": 24,
   "id": "10a6a794",
   "metadata": {},
   "outputs": [
    {
     "name": "stdout",
     "output_type": "stream",
     "text": [
      "Andre Guimaraes\n"
     ]
    }
   ],
   "source": [
    "print (nome_aluno)"
   ]
  }
 ],
 "metadata": {
  "kernelspec": {
   "display_name": "Python 3 (ipykernel)",
   "language": "python",
   "name": "python3"
  },
  "language_info": {
   "codemirror_mode": {
    "name": "ipython",
    "version": 3
   },
   "file_extension": ".py",
   "mimetype": "text/x-python",
   "name": "python",
   "nbconvert_exporter": "python",
   "pygments_lexer": "ipython3",
   "version": "3.11.7"
  }
 },
 "nbformat": 4,
 "nbformat_minor": 5
}
