{
 "cells": [
  {
   "cell_type": "markdown",
   "metadata": {
    "id": "1pCTdOHonv5f"
   },
   "source": [
    "# Módulo 2\n",
    "\n",
    "## 2.3 Instruções e Expressões\n",
    "\n",
    "### Q1\n",
    "\n",
    "Faça um programa que armazene o valor de 20 reais de salário por hora de um trabalhador, e o número de 40 horas trabalhadas na semana. Com essas informações, calcule e imprima:\n",
    "- Salário semanal bruto\n",
    "- Valor descontado por semana INSS (10% do bruto)\n",
    "- Valor descontado por semana pelo sindicato (5% do bruto)\n",
    "- Salário semanal líquido (Bruto - Descontos)"
   ]
  },
  {
   "cell_type": "code",
   "execution_count": 5,
   "metadata": {
    "id": "hVbX0I97nj6M"
   },
   "outputs": [
    {
     "name": "stdout",
     "output_type": "stream",
     "text": [
      "O salário semanal bruto é de R$ 800\n",
      "O valor descontado por semana pelo INSS é de R$ 720.0\n",
      "O valor descontado por semana pelo sindicato é de R$ 760.0\n",
      "O salário semanal líquido é de R$ 680.0\n"
     ]
    }
   ],
   "source": [
    "salario_h = 20\n",
    "h_semanal = 40\n",
    "salario_semana = salario_h * h_semanal\n",
    "desconto_inss = 0.1\n",
    "desconto_sindicato = 0.05\n",
    "print (\"O salário semanal bruto é de R$\", salario_semana)\n",
    "print (\"O valor descontado por semana pelo INSS é de R$\", salario_semana - (salario_semana * desconto_inss))\n",
    "print (\"O valor descontado por semana pelo sindicato é de R$\", salario_semana - (salario_semana * desconto_sindicato))\n",
    "print (\"O salário semanal líquido é de R$\", salario_semana - (salario_semana * desconto_inss) - (salario_semana * desconto_sindicato))"
   ]
  },
  {
   "cell_type": "markdown",
   "metadata": {
    "id": "pIxKX9J2oGZ1"
   },
   "source": [
    "### Q2\n",
    "\n",
    "Altere o programa anterior para a partir dos valores de horas trabalhadas por semana e salário por hora, calcular **em somente duas instruções**:\n",
    "- Salário semanal bruto\n",
    "- Salário semanal líquido com todos os descontos. Para a segunda instrução, realize todos os cálculos aritméticos em uma expressão composta.\n"
   ]
  },
  {
   "cell_type": "code",
   "execution_count": 4,
   "metadata": {
    "id": "pAHw9Xf9oGoi"
   },
   "outputs": [
    {
     "name": "stdout",
     "output_type": "stream",
     "text": [
      "O salário semanal bruto é de R$ 800\n",
      "O salário semanal líquido com os descontos é de R$ 680.0\n"
     ]
    }
   ],
   "source": [
    "print (\"O salário semanal bruto é de R$\", salario_h * h_semanal)\n",
    "print (\"O salário semanal líquido com os descontos é de R$\", salario_h * h_semanal - (salario_h * h_semanal * .1) - (salario_h * h_semanal * .05))"
   ]
  },
  {
   "cell_type": "markdown",
   "metadata": {
    "id": "m8tlHRuWpBOB"
   },
   "source": [
    "### Q3\n",
    "\n",
    "Você está desenvolvendo um software de conversão de moeda e precisa calcular o valor equivalente em yuan chinês a partir de uma quantia em real. A taxa de câmbio é de 0.69 BRL (real) para 1 CNY (yuan). Escreva um programa que define em uma variável uma quantia em reais (BRL) e calcula o valor equivalente em yuan (CNY). Imprima o resultado."
   ]
  },
  {
   "cell_type": "code",
   "execution_count": 11,
   "metadata": {
    "id": "2bPw7uF6oeL9"
   },
   "outputs": [
    {
     "name": "stdout",
     "output_type": "stream",
     "text": [
      "O valor convertido de R$ 500,00 para Yuan é ¥ 345.0\n"
     ]
    }
   ],
   "source": [
    "real = .69\n",
    "yuan = 1\n",
    "valor_real = 500\n",
    "print (\"O valor convertido de R$ 500,00 para Yuan é ¥\",valor_real * real)"
   ]
  },
  {
   "cell_type": "markdown",
   "metadata": {
    "id": "-Na3ltDCp74A"
   },
   "source": [
    "### Q4\n",
    "\n",
    "Você é um treinador de corrida e deseja calcular a velocidade média que um atleta precisa manter para completar a Maratona Internacional de São Silvestre, que tem uma distância total de 42.195 km. A fórmula para calcular a velocidade média ($v\\_media$) é dada por $v\\_media = \\frac{distancia}{tempo}$ . Escreva um programa em Python para calcular a velocidade média necessária para completar a maratona em 3 horas.\n",
    "\n",
    "**Calcule e imprima o resultado em metros/segundo**, ou seja, converta a distância de quilômetros para metros ($metro = \\frac{km}{1000}$) e a velocidade de horas para segundos $(segundo = \\frac{hora}{3600})$."
   ]
  },
  {
   "cell_type": "code",
   "execution_count": 14,
   "metadata": {
    "id": "Bn6l8kcSrE4L"
   },
   "outputs": [
    {
     "name": "stdout",
     "output_type": "stream",
     "text": [
      "A velocidade média necessária para completar a Maratona Internacional de São Silvestre em 3h é de 50634.0 m/s\n"
     ]
    }
   ],
   "source": [
    "print (\"A velocidade média necessária para completar a Maratona Internacional de São Silvestre em 3h é de\", (42195 / 1000) / (3 / 3600), \"m/s\")"
   ]
  },
  {
   "cell_type": "code",
   "execution_count": null,
   "metadata": {},
   "outputs": [],
   "source": []
  }
 ],
 "metadata": {
  "colab": {
   "provenance": []
  },
  "kernelspec": {
   "display_name": "Python 3 (ipykernel)",
   "language": "python",
   "name": "python3"
  },
  "language_info": {
   "codemirror_mode": {
    "name": "ipython",
    "version": 3
   },
   "file_extension": ".py",
   "mimetype": "text/x-python",
   "name": "python",
   "nbconvert_exporter": "python",
   "pygments_lexer": "ipython3",
   "version": "3.11.7"
  }
 },
 "nbformat": 4,
 "nbformat_minor": 4
}
